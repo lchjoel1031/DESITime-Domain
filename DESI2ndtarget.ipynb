{
 "cells": [
  {
   "cell_type": "code",
   "execution_count": 32,
   "metadata": {},
   "outputs": [
    {
     "name": "stdout",
     "output_type": "stream",
     "text": [
      "137.58307920681818 , -7.364677531818183 , 0.0, 0.0, 2000.0, 1\n"
     ]
    }
   ],
   "source": [
    "from antares_client.search import cone_search\n",
    "from astropy.coordinates import Angle, SkyCoord\n",
    "import math\n",
    "import astropy.time as atime\n",
    "import datetime\n",
    "\n",
    "tnow = atime.Time(datetime.datetime.utcnow()).mjd\n",
    "\n",
    "\n",
    "#center = SkyCoord(\"20h48m25.1805s 29d45m4.8361s\")\n",
    "center = SkyCoord(\"9h10m19.9390s -7d21m52.8391s\")\n",
    "radius = Angle(\"1s\")\n",
    "\n",
    "\n",
    "\n",
    "for locus in cone_search(center, radius):\n",
    "    if math.fabs(locus.properties['newest_alert_observation_time'] - tnow)<=7 and locus.properties['newest_alert_magnitude'] < 19.5:\n",
    "        for alert in locus.alerts:\n",
    "            if 'ztf_candid' in alert.properties and alert.properties['ztf_candid'] == int(locus.properties['newest_alert_id'][14:]) and alert.properties['ztf_fid'] == 2:\n",
    "                print(locus.ra,\",\",locus.dec,\", 0.0, 0.0, 2000.0, 1\")\n"
   ]
  },
  {
   "cell_type": "code",
   "execution_count": null,
   "metadata": {},
   "outputs": [],
   "source": []
  }
 ],
 "metadata": {
  "kernelspec": {
   "display_name": "Python 3 (ANTARES 0.4)",
   "language": "python",
   "name": "antares_0.4_py3.7"
  },
  "language_info": {
   "codemirror_mode": {
    "name": "ipython",
    "version": 3
   },
   "file_extension": ".py",
   "mimetype": "text/x-python",
   "name": "python",
   "nbconvert_exporter": "python",
   "pygments_lexer": "ipython3",
   "version": "3.7.3"
  }
 },
 "nbformat": 4,
 "nbformat_minor": 2
}
